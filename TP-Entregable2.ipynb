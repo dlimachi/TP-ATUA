{
 "cells": [
  {
   "cell_type": "markdown",
   "id": "D1MBcwmRW9sq",
   "metadata": {
    "id": "D1MBcwmRW9sq"
   },
   "source": [
    "# Ciencia de datos aplicada (ITBA): Modelo de segundo entregable\n",
    "\n",
    "**Equipo:** Estudiante_1, Estudiante_2\n",
    "\n",
    "**Nombre del proyecto**: Nombre definido para el proyecto en *Entregable 1*"
   ]
  },
  {
   "cell_type": "markdown",
   "id": "7d2dd2a0",
   "metadata": {
    "id": "7d2dd2a0"
   },
   "source": [
    "### 🧾 1. Importación y carga de librerías"
   ]
  },
  {
   "cell_type": "code",
   "execution_count": null,
   "id": "3ogmbgqGVmlu",
   "metadata": {
    "colab": {
     "base_uri": "https://localhost:8080/"
    },
    "id": "3ogmbgqGVmlu",
    "outputId": "078a7b6c-2d8b-4bbc-d296-c2623cd46745"
   },
   "outputs": [
    {
     "name": "stdout",
     "output_type": "stream",
     "text": [
      "Collecting ucimlrepo\n",
      "  Downloading ucimlrepo-0.0.7-py3-none-any.whl.metadata (5.5 kB)\n",
      "Requirement already satisfied: pandas>=1.0.0 in /usr/local/lib/python3.11/dist-packages (from ucimlrepo) (2.2.2)\n",
      "Requirement already satisfied: certifi>=2020.12.5 in /usr/local/lib/python3.11/dist-packages (from ucimlrepo) (2025.1.31)\n",
      "Requirement already satisfied: numpy>=1.23.2 in /usr/local/lib/python3.11/dist-packages (from pandas>=1.0.0->ucimlrepo) (2.0.2)\n",
      "Requirement already satisfied: python-dateutil>=2.8.2 in /usr/local/lib/python3.11/dist-packages (from pandas>=1.0.0->ucimlrepo) (2.8.2)\n",
      "Requirement already satisfied: pytz>=2020.1 in /usr/local/lib/python3.11/dist-packages (from pandas>=1.0.0->ucimlrepo) (2025.2)\n",
      "Requirement already satisfied: tzdata>=2022.7 in /usr/local/lib/python3.11/dist-packages (from pandas>=1.0.0->ucimlrepo) (2025.2)\n",
      "Requirement already satisfied: six>=1.5 in /usr/local/lib/python3.11/dist-packages (from python-dateutil>=2.8.2->pandas>=1.0.0->ucimlrepo) (1.17.0)\n",
      "Downloading ucimlrepo-0.0.7-py3-none-any.whl (8.0 kB)\n",
      "Installing collected packages: ucimlrepo\n",
      "Successfully installed ucimlrepo-0.0.7\n"
     ]
    }
   ],
   "source": [
    "!pip install ucimlrepo"
   ]
  },
  {
   "cell_type": "code",
   "execution_count": 1,
   "id": "19b4d291",
   "metadata": {
    "id": "19b4d291"
   },
   "outputs": [],
   "source": [
    "import pandas as pd\n",
    "import numpy as np\n",
    "import matplotlib.pyplot as plt\n",
    "import seaborn as sns\n",
    "\n",
    "# Configuraciones de estilo\n",
    "sns.set(style=\"whitegrid\")\n",
    "plt.rcParams[\"figure.figsize\"] = (10, 6)"
   ]
  },
  {
   "cell_type": "markdown",
   "id": "IWip9OR_VrgM",
   "metadata": {
    "id": "IWip9OR_VrgM"
   },
   "source": [
    "### 🧾 2. Carga de datos\n",
    "\n",
    "En este caso utilizamos un dataset que aparece en el Repositorio UCI a modo de ejemplo."
   ]
  },
  {
   "cell_type": "code",
   "execution_count": null,
   "id": "NFuDjuTKVALO",
   "metadata": {
    "colab": {
     "base_uri": "https://localhost:8080/",
     "height": 226
    },
    "id": "NFuDjuTKVALO",
    "outputId": "a17612e1-50d1-4460-92f2-f9e36dbb2356"
   },
   "outputs": [
    {
     "data": {
      "text/html": [
       "<div>\n",
       "<style scoped>\n",
       "    .dataframe tbody tr th:only-of-type {\n",
       "        vertical-align: middle;\n",
       "    }\n",
       "\n",
       "    .dataframe tbody tr th {\n",
       "        vertical-align: top;\n",
       "    }\n",
       "\n",
       "    .dataframe thead th {\n",
       "        text-align: right;\n",
       "    }\n",
       "</style>\n",
       "<table border=\"1\" class=\"dataframe\">\n",
       "  <thead>\n",
       "    <tr style=\"text-align: right;\">\n",
       "      <th></th>\n",
       "      <th>id</th>\n",
       "      <th>Fecha de creacion</th>\n",
       "      <th>Estado</th>\n",
       "      <th>Ubicacion</th>\n",
       "      <th>Modelo</th>\n",
       "      <th>Nuevo Precio</th>\n",
       "      <th>Precio de la publicacion</th>\n",
       "      <th>Precio de la reserva</th>\n",
       "      <th>Gastos administrativo</th>\n",
       "      <th>Seguro base</th>\n",
       "      <th>...</th>\n",
       "      <th>Devolucion Aeropuerto</th>\n",
       "      <th>Precio final</th>\n",
       "      <th>Pago seña</th>\n",
       "      <th>Pendiente Por Cobrar</th>\n",
       "      <th>Check-in</th>\n",
       "      <th>Check-out</th>\n",
       "      <th>Dias de Alquiler</th>\n",
       "      <th>Pago de garantia</th>\n",
       "      <th>Monto de la garantia</th>\n",
       "      <th>Devolución Garantia</th>\n",
       "    </tr>\n",
       "  </thead>\n",
       "  <tbody>\n",
       "    <tr>\n",
       "      <th>3351</th>\n",
       "      <td>3567</td>\n",
       "      <td>2024-12-01 09:00:51.878981</td>\n",
       "      <td>CANCELADA</td>\n",
       "      <td>Córdoba, Argentina</td>\n",
       "      <td>Etios</td>\n",
       "      <td>ARS 45.000</td>\n",
       "      <td>ARS 39.000</td>\n",
       "      <td>ARS 78.000</td>\n",
       "      <td>ARS 6.630</td>\n",
       "      <td>ARS 11.000</td>\n",
       "      <td>...</td>\n",
       "      <td>ARS 0</td>\n",
       "      <td>ARS 95.630</td>\n",
       "      <td>ARS 0</td>\n",
       "      <td>ARS 0</td>\n",
       "      <td>20/12/24 9:00</td>\n",
       "      <td>22/12/24 9:00</td>\n",
       "      <td>2</td>\n",
       "      <td>NO</td>\n",
       "      <td>ARS 400.000</td>\n",
       "      <td>NO</td>\n",
       "    </tr>\n",
       "    <tr>\n",
       "      <th>3352</th>\n",
       "      <td>3568</td>\n",
       "      <td>2024-12-01 11:55:20.519032</td>\n",
       "      <td>CANCELADA</td>\n",
       "      <td>Gobernador Duval, Santa Rosa, La Pampa Provinc...</td>\n",
       "      <td>Ranger</td>\n",
       "      <td>ARS 70.000</td>\n",
       "      <td>ARS 70.000</td>\n",
       "      <td>ARS 280.000</td>\n",
       "      <td>ARS 23.800</td>\n",
       "      <td>ARS 22.000</td>\n",
       "      <td>...</td>\n",
       "      <td>ARS 0</td>\n",
       "      <td>ARS 349.400</td>\n",
       "      <td>ARS 0</td>\n",
       "      <td>ARS 0</td>\n",
       "      <td>30/12/24 10:00</td>\n",
       "      <td>2/1/25 12:00</td>\n",
       "      <td>4</td>\n",
       "      <td>NO</td>\n",
       "      <td>ARS 400.000</td>\n",
       "      <td>NO</td>\n",
       "    </tr>\n",
       "    <tr>\n",
       "      <th>3353</th>\n",
       "      <td>3569</td>\n",
       "      <td>2024-12-01 12:12:10.362506</td>\n",
       "      <td>CANCELADA</td>\n",
       "      <td>Gobernador Duval, Santa Rosa, La Pampa Provinc...</td>\n",
       "      <td>Ranger</td>\n",
       "      <td>ARS 70.000</td>\n",
       "      <td>ARS 72.667</td>\n",
       "      <td>ARS 218.000</td>\n",
       "      <td>ARS 18.530</td>\n",
       "      <td>ARS 16.500</td>\n",
       "      <td>...</td>\n",
       "      <td>ARS 0</td>\n",
       "      <td>ARS 253.030</td>\n",
       "      <td>ARS 0</td>\n",
       "      <td>ARS 0</td>\n",
       "      <td>1/12/24 12:11</td>\n",
       "      <td>4/12/24 12:11</td>\n",
       "      <td>3</td>\n",
       "      <td>NO</td>\n",
       "      <td>ARS 400.000</td>\n",
       "      <td>NO</td>\n",
       "    </tr>\n",
       "    <tr>\n",
       "      <th>3354</th>\n",
       "      <td>3570</td>\n",
       "      <td>2024-12-01 12:41:15.321837</td>\n",
       "      <td>CANCELADA</td>\n",
       "      <td>Celedonio Gutiérrez 1287, San Miguel de Tucumá...</td>\n",
       "      <td>Kangoo</td>\n",
       "      <td>ARS 62.000</td>\n",
       "      <td>ARS 62.000</td>\n",
       "      <td>ARS 310.000</td>\n",
       "      <td>ARS 26.350</td>\n",
       "      <td>ARS 27.500</td>\n",
       "      <td>...</td>\n",
       "      <td>ARS 0</td>\n",
       "      <td>ARS 363.850</td>\n",
       "      <td>ARS 0</td>\n",
       "      <td>ARS 0</td>\n",
       "      <td>10/1/25 11:00</td>\n",
       "      <td>14/1/25 16:30</td>\n",
       "      <td>5</td>\n",
       "      <td>NO</td>\n",
       "      <td>ARS 400.000</td>\n",
       "      <td>NO</td>\n",
       "    </tr>\n",
       "    <tr>\n",
       "      <th>3355</th>\n",
       "      <td>3571</td>\n",
       "      <td>2024-12-01 14:45:10.681398</td>\n",
       "      <td>CANCELADA</td>\n",
       "      <td>Vicente López 2305, Buenos Aires, Argentina</td>\n",
       "      <td>Focus</td>\n",
       "      <td>ARS 65.000</td>\n",
       "      <td>ARS 60.000</td>\n",
       "      <td>ARS 60.000</td>\n",
       "      <td>ARS 5.100</td>\n",
       "      <td>ARS 5.500</td>\n",
       "      <td>...</td>\n",
       "      <td>ARS 0</td>\n",
       "      <td>ARS 76.500</td>\n",
       "      <td>ARS 0</td>\n",
       "      <td>ARS 0</td>\n",
       "      <td>11/12/24 19:00</td>\n",
       "      <td>12/12/24 19:00</td>\n",
       "      <td>1</td>\n",
       "      <td>NO</td>\n",
       "      <td>ARS 400.000</td>\n",
       "      <td>NO</td>\n",
       "    </tr>\n",
       "  </tbody>\n",
       "</table>\n",
       "<p>5 rows × 23 columns</p>\n",
       "</div>"
      ],
      "text/plain": [
       "        id          Fecha de creacion     Estado  \\\n",
       "3351  3567 2024-12-01 09:00:51.878981  CANCELADA   \n",
       "3352  3568 2024-12-01 11:55:20.519032  CANCELADA   \n",
       "3353  3569 2024-12-01 12:12:10.362506  CANCELADA   \n",
       "3354  3570 2024-12-01 12:41:15.321837  CANCELADA   \n",
       "3355  3571 2024-12-01 14:45:10.681398  CANCELADA   \n",
       "\n",
       "                                              Ubicacion  Modelo Nuevo Precio  \\\n",
       "3351                                 Córdoba, Argentina   Etios   ARS 45.000   \n",
       "3352  Gobernador Duval, Santa Rosa, La Pampa Provinc...  Ranger   ARS 70.000   \n",
       "3353  Gobernador Duval, Santa Rosa, La Pampa Provinc...  Ranger   ARS 70.000   \n",
       "3354  Celedonio Gutiérrez 1287, San Miguel de Tucumá...  Kangoo   ARS 62.000   \n",
       "3355        Vicente López 2305, Buenos Aires, Argentina   Focus   ARS 65.000   \n",
       "\n",
       "     Precio de la publicacion Precio de la reserva Gastos administrativo  \\\n",
       "3351               ARS 39.000           ARS 78.000             ARS 6.630   \n",
       "3352               ARS 70.000          ARS 280.000            ARS 23.800   \n",
       "3353               ARS 72.667          ARS 218.000            ARS 18.530   \n",
       "3354               ARS 62.000          ARS 310.000            ARS 26.350   \n",
       "3355               ARS 60.000           ARS 60.000             ARS 5.100   \n",
       "\n",
       "     Seguro base  ... Devolucion Aeropuerto Precio final Pago seña  \\\n",
       "3351  ARS 11.000  ...                 ARS 0   ARS 95.630     ARS 0   \n",
       "3352  ARS 22.000  ...                 ARS 0  ARS 349.400     ARS 0   \n",
       "3353  ARS 16.500  ...                 ARS 0  ARS 253.030     ARS 0   \n",
       "3354  ARS 27.500  ...                 ARS 0  ARS 363.850     ARS 0   \n",
       "3355   ARS 5.500  ...                 ARS 0   ARS 76.500     ARS 0   \n",
       "\n",
       "     Pendiente Por Cobrar        Check-in       Check-out Dias de Alquiler  \\\n",
       "3351                ARS 0   20/12/24 9:00   22/12/24 9:00                2   \n",
       "3352                ARS 0  30/12/24 10:00    2/1/25 12:00                4   \n",
       "3353                ARS 0   1/12/24 12:11   4/12/24 12:11                3   \n",
       "3354                ARS 0   10/1/25 11:00   14/1/25 16:30                5   \n",
       "3355                ARS 0  11/12/24 19:00  12/12/24 19:00                1   \n",
       "\n",
       "     Pago de garantia Monto de la garantia  Devolución Garantia  \n",
       "3351               NO          ARS 400.000                   NO  \n",
       "3352               NO          ARS 400.000                   NO  \n",
       "3353               NO          ARS 400.000                   NO  \n",
       "3354               NO          ARS 400.000                   NO  \n",
       "3355               NO          ARS 400.000                   NO  \n",
       "\n",
       "[5 rows x 23 columns]"
      ]
     },
     "execution_count": 13,
     "metadata": {},
     "output_type": "execute_result"
    }
   ],
   "source": [
    "import pandas as pd\n",
    "\n",
    "df = pd.read_csv('dataset/Reservas.csv', sep=';')\n",
    "\n",
    "# Eliminamos columnas no necesarias\n",
    "df_cleaned = df.drop(columns=['Email', 'Dni', 'Telefono', 'uuid', 'Cliente', 'Proveedor de carro', 'Origen', 'Patente', 'Anifitrion', 'Celular', 'Iva', 'Observaciones', 'Pago Anfitrion', 'Condicion'])\n",
    "\n",
    "# Filtramos fechas posteriores al 01/12/2024\n",
    "df_cleaned['Fecha de creacion'] = pd.to_datetime(df_cleaned['Fecha de creacion'], errors='coerce')\n",
    "fecha_limite = pd.to_datetime('2024-12-01')\n",
    "df_filtered = df_cleaned[df_cleaned['Fecha de creacion'] >= fecha_limite]\n",
    "\n",
    "# Separar las reservas CANCELADAS\n",
    "reservas_canceladas = df_filtered[df_filtered['Estado'] == 'CANCELADA']\n",
    "# Separar las reservas COMPLETADAS\n",
    "reservas_completadas = df_filtered[df_filtered['Estado'] == 'COMPLETADA']\n",
    "\n",
    "reservas_canceladas.to_csv('dataset/Reservas_canceladas.csv', sep=';', index=False)\n",
    "reservas_completadas.to_csv('dataset/Reservas_completadas.csv', sep=';', index=False)\n",
    "\n",
    "df_filtered.head()"
   ]
  },
  {
   "cell_type": "markdown",
   "id": "1aWbqc8ynZi0",
   "metadata": {
    "id": "1aWbqc8ynZi0"
   },
   "source": []
  },
  {
   "cell_type": "markdown",
   "id": "7d4f595b",
   "metadata": {
    "id": "7d4f595b"
   },
   "source": [
    "### 🗒️ 2. Descripción del dataset\n",
    "Este dataset contiene \n",
    "\n",
    "**Variables numéricas:**\n",
    "- \n",
    "\n",
    "**Variable objetivo:**\n",
    "- Estado? ya que a partir de aca decidimos que analisis hacer\n",
    "\n"
   ]
  },
  {
   "cell_type": "markdown",
   "id": "90ef3004",
   "metadata": {
    "id": "90ef3004"
   },
   "source": [
    "### 🔍 3. Análisis exploratorio de datos (EDA)"
   ]
  },
  {
   "cell_type": "code",
   "execution_count": 16,
   "id": "7fe35b21",
   "metadata": {
    "colab": {
     "base_uri": "https://localhost:8080/"
    },
    "id": "7fe35b21",
    "outputId": "15b7d7d6-a4da-4f62-cd3b-41d9d5c0fc46"
   },
   "outputs": [
    {
     "name": "stdout",
     "output_type": "stream",
     "text": [
      "<class 'pandas.core.frame.DataFrame'>\n",
      "Index: 1883 entries, 3351 to 5233\n",
      "Data columns (total 23 columns):\n",
      " #   Column                    Non-Null Count  Dtype         \n",
      "---  ------                    --------------  -----         \n",
      " 0   id                        1883 non-null   int64         \n",
      " 1   Fecha de creacion         1883 non-null   datetime64[ns]\n",
      " 2   Estado                    1883 non-null   object        \n",
      " 3   Ubicacion                 1883 non-null   object        \n",
      " 4   Modelo                    1881 non-null   object        \n",
      " 5   Nuevo Precio              1883 non-null   object        \n",
      " 6   Precio de la publicacion  1883 non-null   object        \n",
      " 7   Precio de la reserva      1883 non-null   object        \n",
      " 8   Gastos administrativo     1883 non-null   object        \n",
      " 9   Seguro base               1883 non-null   object        \n",
      " 10  Seguro Contra Terceros    1883 non-null   object        \n",
      " 11  Seguro Premium            1883 non-null   object        \n",
      " 12  Entrega Aeropuerto        1883 non-null   object        \n",
      " 13  Devolucion Aeropuerto     1883 non-null   object        \n",
      " 14  Precio final              1883 non-null   object        \n",
      " 15  Pago seña                 1883 non-null   object        \n",
      " 16  Pendiente Por Cobrar      1883 non-null   object        \n",
      " 17  Check-in                  1883 non-null   object        \n",
      " 18  Check-out                 1883 non-null   object        \n",
      " 19  Dias de Alquiler          1883 non-null   int64         \n",
      " 20  Pago de garantia          1883 non-null   object        \n",
      " 21  Monto de la garantia      1883 non-null   object        \n",
      " 22  Devolución Garantia       1883 non-null   object        \n",
      "dtypes: datetime64[ns](1), int64(2), object(20)\n",
      "memory usage: 353.1+ KB\n"
     ]
    }
   ],
   "source": [
    "# Información general\n",
    "df_filtered.info()"
   ]
  },
  {
   "cell_type": "code",
   "execution_count": 17,
   "id": "O1Cwwfw5Wgkr",
   "metadata": {
    "colab": {
     "base_uri": "https://localhost:8080/",
     "height": 320
    },
    "id": "O1Cwwfw5Wgkr",
    "outputId": "fceccc58-33d4-47cd-dd41-914fd7c26320"
   },
   "outputs": [
    {
     "data": {
      "text/html": [
       "<div>\n",
       "<style scoped>\n",
       "    .dataframe tbody tr th:only-of-type {\n",
       "        vertical-align: middle;\n",
       "    }\n",
       "\n",
       "    .dataframe tbody tr th {\n",
       "        vertical-align: top;\n",
       "    }\n",
       "\n",
       "    .dataframe thead th {\n",
       "        text-align: right;\n",
       "    }\n",
       "</style>\n",
       "<table border=\"1\" class=\"dataframe\">\n",
       "  <thead>\n",
       "    <tr style=\"text-align: right;\">\n",
       "      <th></th>\n",
       "      <th>id</th>\n",
       "      <th>Fecha de creacion</th>\n",
       "      <th>Dias de Alquiler</th>\n",
       "    </tr>\n",
       "  </thead>\n",
       "  <tbody>\n",
       "    <tr>\n",
       "      <th>count</th>\n",
       "      <td>1883.000000</td>\n",
       "      <td>1883</td>\n",
       "      <td>1883.000000</td>\n",
       "    </tr>\n",
       "    <tr>\n",
       "      <th>mean</th>\n",
       "      <td>4563.535316</td>\n",
       "      <td>2025-01-17 01:26:27.050299392</td>\n",
       "      <td>4.787573</td>\n",
       "    </tr>\n",
       "    <tr>\n",
       "      <th>min</th>\n",
       "      <td>3567.000000</td>\n",
       "      <td>2024-12-01 09:00:51.878981</td>\n",
       "      <td>1.000000</td>\n",
       "    </tr>\n",
       "    <tr>\n",
       "      <th>25%</th>\n",
       "      <td>4072.500000</td>\n",
       "      <td>2024-12-21 16:29:23.308979968</td>\n",
       "      <td>3.000000</td>\n",
       "    </tr>\n",
       "    <tr>\n",
       "      <th>50%</th>\n",
       "      <td>4571.000000</td>\n",
       "      <td>2025-01-05 14:18:59.887024128</td>\n",
       "      <td>4.000000</td>\n",
       "    </tr>\n",
       "    <tr>\n",
       "      <th>75%</th>\n",
       "      <td>5056.500000</td>\n",
       "      <td>2025-02-09 13:27:59.455667456</td>\n",
       "      <td>6.000000</td>\n",
       "    </tr>\n",
       "    <tr>\n",
       "      <th>max</th>\n",
       "      <td>5544.000000</td>\n",
       "      <td>2025-04-28 11:08:05.013943</td>\n",
       "      <td>34.000000</td>\n",
       "    </tr>\n",
       "    <tr>\n",
       "      <th>std</th>\n",
       "      <td>571.573910</td>\n",
       "      <td>NaN</td>\n",
       "      <td>3.654516</td>\n",
       "    </tr>\n",
       "  </tbody>\n",
       "</table>\n",
       "</div>"
      ],
      "text/plain": [
       "                id              Fecha de creacion  Dias de Alquiler\n",
       "count  1883.000000                           1883       1883.000000\n",
       "mean   4563.535316  2025-01-17 01:26:27.050299392          4.787573\n",
       "min    3567.000000     2024-12-01 09:00:51.878981          1.000000\n",
       "25%    4072.500000  2024-12-21 16:29:23.308979968          3.000000\n",
       "50%    4571.000000  2025-01-05 14:18:59.887024128          4.000000\n",
       "75%    5056.500000  2025-02-09 13:27:59.455667456          6.000000\n",
       "max    5544.000000     2025-04-28 11:08:05.013943         34.000000\n",
       "std     571.573910                            NaN          3.654516"
      ]
     },
     "execution_count": 17,
     "metadata": {},
     "output_type": "execute_result"
    }
   ],
   "source": [
    "# Información general\n",
    "df_filtered.describe()"
   ]
  },
  {
   "cell_type": "code",
   "execution_count": 18,
   "id": "6ecebb03",
   "metadata": {
    "colab": {
     "base_uri": "https://localhost:8080/",
     "height": 460
    },
    "id": "6ecebb03",
    "outputId": "821efd83-e8e0-471f-d715-060aa5c032f2"
   },
   "outputs": [
    {
     "data": {
      "text/plain": [
       "id                          0\n",
       "Fecha de creacion           0\n",
       "Estado                      0\n",
       "Ubicacion                   0\n",
       "Modelo                      2\n",
       "Nuevo Precio                0\n",
       "Precio de la publicacion    0\n",
       "Precio de la reserva        0\n",
       "Gastos administrativo       0\n",
       "Seguro base                 0\n",
       "Seguro Contra Terceros      0\n",
       "Seguro Premium              0\n",
       "Entrega Aeropuerto          0\n",
       "Devolucion Aeropuerto       0\n",
       "Precio final                0\n",
       "Pago seña                   0\n",
       "Pendiente Por Cobrar        0\n",
       "Check-in                    0\n",
       "Check-out                   0\n",
       "Dias de Alquiler            0\n",
       "Pago de garantia            0\n",
       "Monto de la garantia        0\n",
       "Devolución Garantia         0\n",
       "dtype: int64"
      ]
     },
     "execution_count": 18,
     "metadata": {},
     "output_type": "execute_result"
    }
   ],
   "source": [
    "# Valores faltantes\n",
    "df_filtered.isnull().sum()"
   ]
  },
  {
   "cell_type": "code",
   "execution_count": 20,
   "id": "e57faa77",
   "metadata": {
    "colab": {
     "base_uri": "https://localhost:8080/",
     "height": 754
    },
    "id": "e57faa77",
    "outputId": "dfd4634c-c398-4eaf-ec6a-1e1cd131a02f"
   },
   "outputs": [
    {
     "data": {
      "image/png": "[encoded data removed]",
      "text/plain": [
       "<Figure size 1500x1000 with 12 Axes>"
      ]
     },
     "metadata": {},
     "output_type": "display_data"
    }
   ],
   "source": [
    "# Distribuciones de variables numéricas\n",
    "df_filtered.hist(bins=15, figsize=(15, 10), layout=(4, 3))\n",
    "plt.suptitle('Distribución de variables numéricas')\n",
    "plt.tight_layout()\n",
    "plt.show()"
   ]
  },
  {
   "cell_type": "markdown",
   "id": "ee340f02",
   "metadata": {
    "id": "ee340f02"
   },
   "source": [
    "#### 🧊 Detección de outliers con boxplots"
   ]
  },
  {
   "cell_type": "code",
   "execution_count": 21,
   "id": "0d455602",
   "metadata": {
    "colab": {
     "base_uri": "https://localhost:8080/",
     "height": 1000
    },
    "id": "0d455602",
    "outputId": "a3952e8c-151b-4068-ba6e-1ee0bd9afd69"
   },
   "outputs": [
    {
     "ename": "IndexError",
     "evalue": "index 2 is out of bounds for axis 0 with size 2",
     "output_type": "error",
     "traceback": [
      "\u001b[1;31m---------------------------------------------------------------------------\u001b[0m",
      "\u001b[1;31mIndexError\u001b[0m                                Traceback (most recent call last)",
      "Cell \u001b[1;32mIn[21], line 7\u001b[0m\n\u001b[0;32m      4\u001b[0m columnas \u001b[38;5;241m=\u001b[39m df_filtered\u001b[38;5;241m.\u001b[39mselect_dtypes(include\u001b[38;5;241m=\u001b[39m\u001b[38;5;124m'\u001b[39m\u001b[38;5;124mnumber\u001b[39m\u001b[38;5;124m'\u001b[39m)\u001b[38;5;241m.\u001b[39mcolumns\n\u001b[0;32m      6\u001b[0m \u001b[38;5;28;01mfor\u001b[39;00m i, ax \u001b[38;5;129;01min\u001b[39;00m \u001b[38;5;28menumerate\u001b[39m(axes\u001b[38;5;241m.\u001b[39mflat):\n\u001b[1;32m----> 7\u001b[0m     sns\u001b[38;5;241m.\u001b[39mboxplot(y\u001b[38;5;241m=\u001b[39mdf_filtered[\u001b[43mcolumnas\u001b[49m\u001b[43m[\u001b[49m\u001b[43mi\u001b[49m\u001b[43m]\u001b[49m], ax\u001b[38;5;241m=\u001b[39max)\n\u001b[0;32m      8\u001b[0m     ax\u001b[38;5;241m.\u001b[39mset_title(columnas[i])\n\u001b[0;32m     10\u001b[0m plt\u001b[38;5;241m.\u001b[39msuptitle(\u001b[38;5;124m'\u001b[39m\u001b[38;5;124mBoxplots de variables numéricas\u001b[39m\u001b[38;5;124m'\u001b[39m, fontsize\u001b[38;5;241m=\u001b[39m\u001b[38;5;241m16\u001b[39m)\n",
      "File \u001b[1;32mc:\\Users\\desir\\AppData\\Local\\Programs\\Python\\Python39\\lib\\site-packages\\pandas\\core\\indexes\\base.py:5389\u001b[0m, in \u001b[0;36mIndex.__getitem__\u001b[1;34m(self, key)\u001b[0m\n\u001b[0;32m   5386\u001b[0m \u001b[38;5;28;01mif\u001b[39;00m is_integer(key) \u001b[38;5;129;01mor\u001b[39;00m is_float(key):\n\u001b[0;32m   5387\u001b[0m     \u001b[38;5;66;03m# GH#44051 exclude bool, which would return a 2d ndarray\u001b[39;00m\n\u001b[0;32m   5388\u001b[0m     key \u001b[38;5;241m=\u001b[39m com\u001b[38;5;241m.\u001b[39mcast_scalar_indexer(key)\n\u001b[1;32m-> 5389\u001b[0m     \u001b[38;5;28;01mreturn\u001b[39;00m \u001b[43mgetitem\u001b[49m\u001b[43m(\u001b[49m\u001b[43mkey\u001b[49m\u001b[43m)\u001b[49m\n\u001b[0;32m   5391\u001b[0m \u001b[38;5;28;01mif\u001b[39;00m \u001b[38;5;28misinstance\u001b[39m(key, \u001b[38;5;28mslice\u001b[39m):\n\u001b[0;32m   5392\u001b[0m     \u001b[38;5;66;03m# This case is separated from the conditional above to avoid\u001b[39;00m\n\u001b[0;32m   5393\u001b[0m     \u001b[38;5;66;03m# pessimization com.is_bool_indexer and ndim checks.\u001b[39;00m\n\u001b[0;32m   5394\u001b[0m     \u001b[38;5;28;01mreturn\u001b[39;00m \u001b[38;5;28mself\u001b[39m\u001b[38;5;241m.\u001b[39m_getitem_slice(key)\n",
      "\u001b[1;31mIndexError\u001b[0m: index 2 is out of bounds for axis 0 with size 2"
     ]
    },
    {
     "data": {
      "image/png": "[encoded data removed]",
      "text/plain": [
       "<Figure size 1500x1800 with 12 Axes>"
      ]
     },
     "metadata": {},
     "output_type": "display_data"
    }
   ],
   "source": [
    "# Boxplots verticales de las 12 variables numéricas (3 por fila)\n",
    "fig, axes = plt.subplots(4, 3, figsize=(15, 18))\n",
    "\n",
    "columnas = df_filtered.select_dtypes(include='number').columns\n",
    "\n",
    "for i, ax in enumerate(axes.flat):\n",
    "    sns.boxplot(y=df_filtered[columnas[i]], ax=ax)\n",
    "    ax.set_title(columnas[i])\n",
    "\n",
    "plt.suptitle('Boxplots de variables numéricas', fontsize=16)\n",
    "plt.tight_layout(rect=[0, 0.03, 1, 0.95])\n",
    "plt.show()"
   ]
  },
  {
   "cell_type": "markdown",
   "id": "58dfcd68",
   "metadata": {
    "id": "58dfcd68"
   },
   "source": [
    "#### 🔗 Matriz de correlación entre variables numéricas"
   ]
  },
  {
   "cell_type": "code",
   "execution_count": 22,
   "id": "b9438d1f",
   "metadata": {
    "colab": {
     "base_uri": "https://localhost:8080/",
     "height": 837
    },
    "id": "b9438d1f",
    "outputId": "35fd2d3c-e6fa-4dfd-c134-fd2169606556"
   },
   "outputs": [
    {
     "ename": "ValueError",
     "evalue": "could not convert string to float: 'CANCELADA'",
     "output_type": "error",
     "traceback": [
      "\u001b[1;31m---------------------------------------------------------------------------\u001b[0m",
      "\u001b[1;31mValueError\u001b[0m                                Traceback (most recent call last)",
      "Cell \u001b[1;32mIn[22], line 2\u001b[0m\n\u001b[0;32m      1\u001b[0m plt\u001b[38;5;241m.\u001b[39mfigure(figsize\u001b[38;5;241m=\u001b[39m(\u001b[38;5;241m12\u001b[39m, \u001b[38;5;241m8\u001b[39m))\n\u001b[1;32m----> 2\u001b[0m sns\u001b[38;5;241m.\u001b[39mheatmap(\u001b[43mdf_filtered\u001b[49m\u001b[38;5;241;43m.\u001b[39;49m\u001b[43mcorr\u001b[49m\u001b[43m(\u001b[49m\u001b[43m)\u001b[49m, annot\u001b[38;5;241m=\u001b[39m\u001b[38;5;28;01mTrue\u001b[39;00m, fmt\u001b[38;5;241m=\u001b[39m\u001b[38;5;124m\"\u001b[39m\u001b[38;5;124m.2f\u001b[39m\u001b[38;5;124m\"\u001b[39m, cmap\u001b[38;5;241m=\u001b[39m\u001b[38;5;124m\"\u001b[39m\u001b[38;5;124mcoolwarm\u001b[39m\u001b[38;5;124m\"\u001b[39m)\n\u001b[0;32m      3\u001b[0m plt\u001b[38;5;241m.\u001b[39mtitle(\u001b[38;5;124m\"\u001b[39m\u001b[38;5;124mMatriz de correlación\u001b[39m\u001b[38;5;124m\"\u001b[39m)\n\u001b[0;32m      4\u001b[0m plt\u001b[38;5;241m.\u001b[39mshow()\n",
      "File \u001b[1;32mc:\\Users\\desir\\AppData\\Local\\Programs\\Python\\Python39\\lib\\site-packages\\pandas\\core\\frame.py:11049\u001b[0m, in \u001b[0;36mDataFrame.corr\u001b[1;34m(self, method, min_periods, numeric_only)\u001b[0m\n\u001b[0;32m  11047\u001b[0m cols \u001b[38;5;241m=\u001b[39m data\u001b[38;5;241m.\u001b[39mcolumns\n\u001b[0;32m  11048\u001b[0m idx \u001b[38;5;241m=\u001b[39m cols\u001b[38;5;241m.\u001b[39mcopy()\n\u001b[1;32m> 11049\u001b[0m mat \u001b[38;5;241m=\u001b[39m \u001b[43mdata\u001b[49m\u001b[38;5;241;43m.\u001b[39;49m\u001b[43mto_numpy\u001b[49m\u001b[43m(\u001b[49m\u001b[43mdtype\u001b[49m\u001b[38;5;241;43m=\u001b[39;49m\u001b[38;5;28;43mfloat\u001b[39;49m\u001b[43m,\u001b[49m\u001b[43m \u001b[49m\u001b[43mna_value\u001b[49m\u001b[38;5;241;43m=\u001b[39;49m\u001b[43mnp\u001b[49m\u001b[38;5;241;43m.\u001b[39;49m\u001b[43mnan\u001b[49m\u001b[43m,\u001b[49m\u001b[43m \u001b[49m\u001b[43mcopy\u001b[49m\u001b[38;5;241;43m=\u001b[39;49m\u001b[38;5;28;43;01mFalse\u001b[39;49;00m\u001b[43m)\u001b[49m\n\u001b[0;32m  11051\u001b[0m \u001b[38;5;28;01mif\u001b[39;00m method \u001b[38;5;241m==\u001b[39m \u001b[38;5;124m\"\u001b[39m\u001b[38;5;124mpearson\u001b[39m\u001b[38;5;124m\"\u001b[39m:\n\u001b[0;32m  11052\u001b[0m     correl \u001b[38;5;241m=\u001b[39m libalgos\u001b[38;5;241m.\u001b[39mnancorr(mat, minp\u001b[38;5;241m=\u001b[39mmin_periods)\n",
      "File \u001b[1;32mc:\\Users\\desir\\AppData\\Local\\Programs\\Python\\Python39\\lib\\site-packages\\pandas\\core\\frame.py:1993\u001b[0m, in \u001b[0;36mDataFrame.to_numpy\u001b[1;34m(self, dtype, copy, na_value)\u001b[0m\n\u001b[0;32m   1991\u001b[0m \u001b[38;5;28;01mif\u001b[39;00m dtype \u001b[38;5;129;01mis\u001b[39;00m \u001b[38;5;129;01mnot\u001b[39;00m \u001b[38;5;28;01mNone\u001b[39;00m:\n\u001b[0;32m   1992\u001b[0m     dtype \u001b[38;5;241m=\u001b[39m np\u001b[38;5;241m.\u001b[39mdtype(dtype)\n\u001b[1;32m-> 1993\u001b[0m result \u001b[38;5;241m=\u001b[39m \u001b[38;5;28;43mself\u001b[39;49m\u001b[38;5;241;43m.\u001b[39;49m\u001b[43m_mgr\u001b[49m\u001b[38;5;241;43m.\u001b[39;49m\u001b[43mas_array\u001b[49m\u001b[43m(\u001b[49m\u001b[43mdtype\u001b[49m\u001b[38;5;241;43m=\u001b[39;49m\u001b[43mdtype\u001b[49m\u001b[43m,\u001b[49m\u001b[43m \u001b[49m\u001b[43mcopy\u001b[49m\u001b[38;5;241;43m=\u001b[39;49m\u001b[43mcopy\u001b[49m\u001b[43m,\u001b[49m\u001b[43m \u001b[49m\u001b[43mna_value\u001b[49m\u001b[38;5;241;43m=\u001b[39;49m\u001b[43mna_value\u001b[49m\u001b[43m)\u001b[49m\n\u001b[0;32m   1994\u001b[0m \u001b[38;5;28;01mif\u001b[39;00m result\u001b[38;5;241m.\u001b[39mdtype \u001b[38;5;129;01mis\u001b[39;00m \u001b[38;5;129;01mnot\u001b[39;00m dtype:\n\u001b[0;32m   1995\u001b[0m     result \u001b[38;5;241m=\u001b[39m np\u001b[38;5;241m.\u001b[39masarray(result, dtype\u001b[38;5;241m=\u001b[39mdtype)\n",
      "File \u001b[1;32mc:\\Users\\desir\\AppData\\Local\\Programs\\Python\\Python39\\lib\\site-packages\\pandas\\core\\internals\\managers.py:1694\u001b[0m, in \u001b[0;36mBlockManager.as_array\u001b[1;34m(self, dtype, copy, na_value)\u001b[0m\n\u001b[0;32m   1692\u001b[0m         arr\u001b[38;5;241m.\u001b[39mflags\u001b[38;5;241m.\u001b[39mwriteable \u001b[38;5;241m=\u001b[39m \u001b[38;5;28;01mFalse\u001b[39;00m\n\u001b[0;32m   1693\u001b[0m \u001b[38;5;28;01melse\u001b[39;00m:\n\u001b[1;32m-> 1694\u001b[0m     arr \u001b[38;5;241m=\u001b[39m \u001b[38;5;28;43mself\u001b[39;49m\u001b[38;5;241;43m.\u001b[39;49m\u001b[43m_interleave\u001b[49m\u001b[43m(\u001b[49m\u001b[43mdtype\u001b[49m\u001b[38;5;241;43m=\u001b[39;49m\u001b[43mdtype\u001b[49m\u001b[43m,\u001b[49m\u001b[43m \u001b[49m\u001b[43mna_value\u001b[49m\u001b[38;5;241;43m=\u001b[39;49m\u001b[43mna_value\u001b[49m\u001b[43m)\u001b[49m\n\u001b[0;32m   1695\u001b[0m     \u001b[38;5;66;03m# The underlying data was copied within _interleave, so no need\u001b[39;00m\n\u001b[0;32m   1696\u001b[0m     \u001b[38;5;66;03m# to further copy if copy=True or setting na_value\u001b[39;00m\n\u001b[0;32m   1698\u001b[0m \u001b[38;5;28;01mif\u001b[39;00m na_value \u001b[38;5;129;01mis\u001b[39;00m lib\u001b[38;5;241m.\u001b[39mno_default:\n",
      "File \u001b[1;32mc:\\Users\\desir\\AppData\\Local\\Programs\\Python\\Python39\\lib\\site-packages\\pandas\\core\\internals\\managers.py:1753\u001b[0m, in \u001b[0;36mBlockManager._interleave\u001b[1;34m(self, dtype, na_value)\u001b[0m\n\u001b[0;32m   1751\u001b[0m     \u001b[38;5;28;01melse\u001b[39;00m:\n\u001b[0;32m   1752\u001b[0m         arr \u001b[38;5;241m=\u001b[39m blk\u001b[38;5;241m.\u001b[39mget_values(dtype)\n\u001b[1;32m-> 1753\u001b[0m     \u001b[43mresult\u001b[49m\u001b[43m[\u001b[49m\u001b[43mrl\u001b[49m\u001b[38;5;241;43m.\u001b[39;49m\u001b[43mindexer\u001b[49m\u001b[43m]\u001b[49m \u001b[38;5;241m=\u001b[39m arr\n\u001b[0;32m   1754\u001b[0m     itemmask[rl\u001b[38;5;241m.\u001b[39mindexer] \u001b[38;5;241m=\u001b[39m \u001b[38;5;241m1\u001b[39m\n\u001b[0;32m   1756\u001b[0m \u001b[38;5;28;01mif\u001b[39;00m \u001b[38;5;129;01mnot\u001b[39;00m itemmask\u001b[38;5;241m.\u001b[39mall():\n",
      "\u001b[1;31mValueError\u001b[0m: could not convert string to float: 'CANCELADA'"
     ]
    },
    {
     "data": {
      "text/plain": [
       "<Figure size 1200x800 with 0 Axes>"
      ]
     },
     "metadata": {},
     "output_type": "display_data"
    }
   ],
   "source": [
    "plt.figure(figsize=(12, 8))\n",
    "sns.heatmap(df_filtered.corr(), annot=True, fmt=\".2f\", cmap=\"coolwarm\")\n",
    "plt.title(\"Matriz de correlación\")\n",
    "plt.show()"
   ]
  },
  {
   "cell_type": "markdown",
   "id": "5d1c9df6",
   "metadata": {
    "id": "5d1c9df6"
   },
   "source": [
    "#### 📊 Relación entre variables: ejemplo alcohol vs quality"
   ]
  },
  {
   "cell_type": "code",
   "execution_count": null,
   "id": "05313f19",
   "metadata": {
    "colab": {
     "base_uri": "https://localhost:8080/",
     "height": 573
    },
    "id": "05313f19",
    "outputId": "dcea0842-d4d0-4cd2-bc56-722b0766a3f5"
   },
   "outputs": [
    {
     "data": {
      "image/png": "[encoded data removed]",
      "text/plain": [
       "<Figure size 1000x600 with 1 Axes>"
      ]
     },
     "metadata": {},
     "output_type": "display_data"
    }
   ],
   "source": [
    "sns.boxplot(x='quality', y='alcohol', data=df)\n",
    "plt.title('Distribución del alcohol según calidad del vino')\n",
    "plt.show()"
   ]
  },
  {
   "cell_type": "markdown",
   "id": "3706acdf",
   "metadata": {
    "id": "3706acdf"
   },
   "source": [
    "### 🧼 4. Diagnóstico de calidad de datos\n",
    "- No se detectaron valores faltantes.\n",
    "- Algunas variables muestran asimetrías (ej: `residual sugar`, `chlorides`).\n",
    "- Existen valores atípicos en varias variables.\n",
    "- Se observa una posible relación positiva entre alcohol y calidad."
   ]
  },
  {
   "cell_type": "markdown",
   "id": "465ff520",
   "metadata": {
    "id": "465ff520"
   },
   "source": [
    "### 🧪 5. Transformaciones realizadas"
   ]
  },
  {
   "cell_type": "code",
   "execution_count": null,
   "id": "92519588",
   "metadata": {
    "id": "92519588"
   },
   "outputs": [],
   "source": [
    "# Crear variable categórica basada en calidad\n",
    "df['quality_label'] = df['quality'].apply(lambda x: 'low' if x <= 4 else 'medium' if x <= 6 else 'high')\n",
    "df['quality_label'] = pd.Categorical(df['quality_label'], categories=['low', 'medium', 'high'])"
   ]
  },
  {
   "cell_type": "code",
   "execution_count": null,
   "id": "CHWtsZw7W5J2",
   "metadata": {
    "id": "CHWtsZw7W5J2"
   },
   "outputs": [],
   "source": [
    "# Normalización de variables numéricas (excepto quality)\n",
    "from sklearn.preprocessing import MinMaxScaler\n",
    "scaler = MinMaxScaler()\n",
    "numerical_cols = df.select_dtypes(include='number').columns.drop('quality')\n",
    "df[numerical_cols] = scaler.fit_transform(df[numerical_cols])"
   ]
  },
  {
   "cell_type": "code",
   "execution_count": null,
   "id": "IuQ-ayaDn0W2",
   "metadata": {
    "colab": {
     "base_uri": "https://localhost:8080/",
     "height": 226
    },
    "id": "IuQ-ayaDn0W2",
    "outputId": "8947f6a2-0b0b-4c4a-af46-90bf40be754f"
   },
   "outputs": [
    {
     "data": {
      "application/vnd.google.colaboratory.intrinsic+json": {
       "summary": "{\n  \"name\": \"df\",\n  \"rows\": 6497,\n  \"fields\": [\n    {\n      \"column\": \"fixed_acidity\",\n      \"properties\": {\n        \"dtype\": \"number\",\n        \"std\": 0.10714328576858129,\n        \"min\": 0.0,\n        \"max\": 0.9999999999999999,\n        \"num_unique_values\": 106,\n        \"samples\": [\n          0.27685950413223137,\n          0.3553719008264462,\n          0.28925619834710736\n        ],\n        \"semantic_type\": \"\",\n        \"description\": \"\"\n      }\n    },\n    {\n      \"column\": \"volatile_acidity\",\n      \"properties\": {\n        \"dtype\": \"number\",\n        \"std\": 0.1097576493897857,\n        \"min\": 0.0,\n        \"max\": 0.9999999999999999,\n        \"num_unique_values\": 187,\n        \"samples\": [\n          0.21666666666666667,\n          0.08666666666666666,\n          0.4099999999999999\n        ],\n        \"semantic_type\": \"\",\n        \"description\": \"\"\n      }\n    },\n    {\n      \"column\": \"citric_acid\",\n      \"properties\": {\n        \"dtype\": \"number\",\n        \"std\": 0.08754088246843054,\n        \"min\": 0.0,\n        \"max\": 1.0,\n        \"num_unique_values\": 89,\n        \"samples\": [\n          0.06024096385542169,\n          0.3614457831325301,\n          0.22289156626506026\n        ],\n        \"semantic_type\": \"\",\n        \"description\": \"\"\n      }\n    },\n    {\n      \"column\": \"residual_sugar\",\n      \"properties\": {\n        \"dtype\": \"number\",\n        \"std\": 0.07297245004827337,\n        \"min\": 0.0,\n        \"max\": 1.0,\n        \"num_unique_values\": 316,\n        \"samples\": [\n          0.28144171779141103,\n          0.03987730061349694,\n          0.1334355828220859\n        ],\n        \"semantic_type\": \"\",\n        \"description\": \"\"\n      }\n    },\n    {\n      \"column\": \"chlorides\",\n      \"properties\": {\n        \"dtype\": \"number\",\n        \"std\": 0.058195351117042084,\n        \"min\": 0.0,\n        \"max\": 0.9999999999999999,\n        \"num_unique_values\": 214,\n        \"samples\": [\n          0.132890365448505,\n          0.34551495016611294,\n          0.15116279069767444\n        ],\n        \"semantic_type\": \"\",\n        \"description\": \"\"\n      }\n    },\n    {\n      \"column\": \"free_sulfur_dioxide\",\n      \"properties\": {\n        \"dtype\": \"number\",\n        \"std\": 0.061629860319452945,\n        \"min\": 0.0,\n        \"max\": 0.9999999999999999,\n        \"num_unique_values\": 135,\n        \"samples\": [\n          0.265625,\n          0.2222222222222222,\n          0.4409722222222222\n        ],\n        \"semantic_type\": \"\",\n        \"description\": \"\"\n      }\n    },\n    {\n      \"column\": \"total_sulfur_dioxide\",\n      \"properties\": {\n        \"dtype\": \"number\",\n        \"std\": 0.13023468784016318,\n        \"min\": 0.0,\n        \"max\": 1.0,\n        \"num_unique_values\": 276,\n        \"samples\": [\n          0.018433179723502304,\n          0.3294930875576037,\n          0.5092165898617511\n        ],\n        \"semantic_type\": \"\",\n        \"description\": \"\"\n      }\n    },\n    {\n      \"column\": \"density\",\n      \"properties\": {\n        \"dtype\": \"number\",\n        \"std\": 0.057811316825120994,\n        \"min\": 0.0,\n        \"max\": 1.0,\n        \"num_unique_values\": 998,\n        \"samples\": [\n          0.09041835357625061,\n          0.13514555619818935,\n          0.14902641218430546\n        ],\n        \"semantic_type\": \"\",\n        \"description\": \"\"\n      }\n    },\n    {\n      \"column\": \"pH\",\n      \"properties\": {\n        \"dtype\": \"number\",\n        \"std\": 0.12464124194107436,\n        \"min\": 0.0,\n        \"max\": 1.0,\n        \"num_unique_values\": 108,\n        \"samples\": [\n          0.7906976744186047,\n          0.3488372093023253,\n          0.44961240310077466\n        ],\n        \"semantic_type\": \"\",\n        \"description\": \"\"\n      }\n    },\n    {\n      \"column\": \"sulphates\",\n      \"properties\": {\n        \"dtype\": \"number\",\n        \"std\": 0.08359880540139973,\n        \"min\": 0.0,\n        \"max\": 1.0,\n        \"num_unique_values\": 111,\n        \"samples\": [\n          0.5000000000000001,\n          0.7528089887640451,\n          0.1348314606741573\n        ],\n        \"semantic_type\": \"\",\n        \"description\": \"\"\n      }\n    },\n    {\n      \"column\": \"alcohol\",\n      \"properties\": {\n        \"dtype\": \"number\",\n        \"std\": 0.17285677519840092,\n        \"min\": 0.0,\n        \"max\": 1.0000000000000002,\n        \"num_unique_values\": 111,\n        \"samples\": [\n          0.4251207724637682,\n          0.24637681159420288,\n          0.3623188405797102\n        ],\n        \"semantic_type\": \"\",\n        \"description\": \"\"\n      }\n    },\n    {\n      \"column\": \"quality\",\n      \"properties\": {\n        \"dtype\": \"number\",\n        \"std\": 0,\n        \"min\": 3,\n        \"max\": 9,\n        \"num_unique_values\": 7,\n        \"samples\": [\n          5,\n          6,\n          3\n        ],\n        \"semantic_type\": \"\",\n        \"description\": \"\"\n      }\n    },\n    {\n      \"column\": \"quality_label\",\n      \"properties\": {\n        \"dtype\": \"category\",\n        \"num_unique_values\": 3,\n        \"samples\": [\n          \"medium\",\n          \"high\",\n          \"low\"\n        ],\n        \"semantic_type\": \"\",\n        \"description\": \"\"\n      }\n    }\n  ]\n}",
       "type": "dataframe",
       "variable_name": "df"
      },
      "text/html": [
       "\n",
       "  <div id=\"df-1acbceff-5fc7-4ff2-8a94-546905f751df\" class=\"colab-df-container\">\n",
       "    <div>\n",
       "<style scoped>\n",
       "    .dataframe tbody tr th:only-of-type {\n",
       "        vertical-align: middle;\n",
       "    }\n",
       "\n",
       "    .dataframe tbody tr th {\n",
       "        vertical-align: top;\n",
       "    }\n",
       "\n",
       "    .dataframe thead th {\n",
       "        text-align: right;\n",
       "    }\n",
       "</style>\n",
       "<table border=\"1\" class=\"dataframe\">\n",
       "  <thead>\n",
       "    <tr style=\"text-align: right;\">\n",
       "      <th></th>\n",
       "      <th>fixed_acidity</th>\n",
       "      <th>volatile_acidity</th>\n",
       "      <th>citric_acid</th>\n",
       "      <th>residual_sugar</th>\n",
       "      <th>chlorides</th>\n",
       "      <th>free_sulfur_dioxide</th>\n",
       "      <th>total_sulfur_dioxide</th>\n",
       "      <th>density</th>\n",
       "      <th>pH</th>\n",
       "      <th>sulphates</th>\n",
       "      <th>alcohol</th>\n",
       "      <th>quality</th>\n",
       "      <th>quality_label</th>\n",
       "    </tr>\n",
       "  </thead>\n",
       "  <tbody>\n",
       "    <tr>\n",
       "      <th>0</th>\n",
       "      <td>0.297521</td>\n",
       "      <td>0.413333</td>\n",
       "      <td>0.000000</td>\n",
       "      <td>0.019939</td>\n",
       "      <td>0.111296</td>\n",
       "      <td>0.034722</td>\n",
       "      <td>0.064516</td>\n",
       "      <td>0.206092</td>\n",
       "      <td>0.612403</td>\n",
       "      <td>0.191011</td>\n",
       "      <td>0.202899</td>\n",
       "      <td>5</td>\n",
       "      <td>medium</td>\n",
       "    </tr>\n",
       "    <tr>\n",
       "      <th>1</th>\n",
       "      <td>0.330579</td>\n",
       "      <td>0.533333</td>\n",
       "      <td>0.000000</td>\n",
       "      <td>0.030675</td>\n",
       "      <td>0.147841</td>\n",
       "      <td>0.083333</td>\n",
       "      <td>0.140553</td>\n",
       "      <td>0.186813</td>\n",
       "      <td>0.372093</td>\n",
       "      <td>0.258427</td>\n",
       "      <td>0.260870</td>\n",
       "      <td>5</td>\n",
       "      <td>medium</td>\n",
       "    </tr>\n",
       "    <tr>\n",
       "      <th>2</th>\n",
       "      <td>0.330579</td>\n",
       "      <td>0.453333</td>\n",
       "      <td>0.024096</td>\n",
       "      <td>0.026074</td>\n",
       "      <td>0.137874</td>\n",
       "      <td>0.048611</td>\n",
       "      <td>0.110599</td>\n",
       "      <td>0.190669</td>\n",
       "      <td>0.418605</td>\n",
       "      <td>0.241573</td>\n",
       "      <td>0.260870</td>\n",
       "      <td>5</td>\n",
       "      <td>medium</td>\n",
       "    </tr>\n",
       "    <tr>\n",
       "      <th>3</th>\n",
       "      <td>0.611570</td>\n",
       "      <td>0.133333</td>\n",
       "      <td>0.337349</td>\n",
       "      <td>0.019939</td>\n",
       "      <td>0.109635</td>\n",
       "      <td>0.055556</td>\n",
       "      <td>0.124424</td>\n",
       "      <td>0.209948</td>\n",
       "      <td>0.341085</td>\n",
       "      <td>0.202247</td>\n",
       "      <td>0.260870</td>\n",
       "      <td>6</td>\n",
       "      <td>medium</td>\n",
       "    </tr>\n",
       "    <tr>\n",
       "      <th>4</th>\n",
       "      <td>0.297521</td>\n",
       "      <td>0.413333</td>\n",
       "      <td>0.000000</td>\n",
       "      <td>0.019939</td>\n",
       "      <td>0.111296</td>\n",
       "      <td>0.034722</td>\n",
       "      <td>0.064516</td>\n",
       "      <td>0.206092</td>\n",
       "      <td>0.612403</td>\n",
       "      <td>0.191011</td>\n",
       "      <td>0.202899</td>\n",
       "      <td>5</td>\n",
       "      <td>medium</td>\n",
       "    </tr>\n",
       "  </tbody>\n",
       "</table>\n",
       "</div>\n",
       "    <div class=\"colab-df-buttons\">\n",
       "\n",
       "  <div class=\"colab-df-container\">\n",
       "    <button class=\"colab-df-convert\" onclick=\"convertToInteractive('df-1acbceff-5fc7-4ff2-8a94-546905f751df')\"\n",
       "            title=\"Convert this dataframe to an interactive table.\"\n",
       "            style=\"display:none;\">\n",
       "\n",
       "  <svg xmlns=\"http://www.w3.org/2000/svg\" height=\"24px\" viewBox=\"0 -960 960 960\">\n",
       "    <path d=\"M120-120v-720h720v720H120Zm60-500h600v-160H180v160Zm220 220h160v-160H400v160Zm0 220h160v-160H400v160ZM180-400h160v-160H180v160Zm440 0h160v-160H620v160ZM180-180h160v-160H180v160Zm440 0h160v-160H620v160Z\"/>\n",
       "  </svg>\n",
       "    </button>\n",
       "\n",
       "  <style>\n",
       "    .colab-df-container {\n",
       "      display:flex;\n",
       "      gap: 12px;\n",
       "    }\n",
       "\n",
       "    .colab-df-convert {\n",
       "      background-color: #E8F0FE;\n",
       "      border: none;\n",
       "      border-radius: 50%;\n",
       "      cursor: pointer;\n",
       "      display: none;\n",
       "      fill: #1967D2;\n",
       "      height: 32px;\n",
       "      padding: 0 0 0 0;\n",
       "      width: 32px;\n",
       "    }\n",
       "\n",
       "    .colab-df-convert:hover {\n",
       "      background-color: #E2EBFA;\n",
       "      box-shadow: 0px 1px 2px rgba(60, 64, 67, 0.3), 0px 1px 3px 1px rgba(60, 64, 67, 0.15);\n",
       "      fill: #174EA6;\n",
       "    }\n",
       "\n",
       "    .colab-df-buttons div {\n",
       "      margin-bottom: 4px;\n",
       "    }\n",
       "\n",
       "    [theme=dark] .colab-df-convert {\n",
       "      background-color: #3B4455;\n",
       "      fill: #D2E3FC;\n",
       "    }\n",
       "\n",
       "    [theme=dark] .colab-df-convert:hover {\n",
       "      background-color: #434B5C;\n",
       "      box-shadow: 0px 1px 3px 1px rgba(0, 0, 0, 0.15);\n",
       "      filter: drop-shadow(0px 1px 2px rgba(0, 0, 0, 0.3));\n",
       "      fill: #FFFFFF;\n",
       "    }\n",
       "  </style>\n",
       "\n",
       "    <script>\n",
       "      const buttonEl =\n",
       "        document.querySelector('#df-1acbceff-5fc7-4ff2-8a94-546905f751df button.colab-df-convert');\n",
       "      buttonEl.style.display =\n",
       "        google.colab.kernel.accessAllowed ? 'block' : 'none';\n",
       "\n",
       "      async function convertToInteractive(key) {\n",
       "        const element = document.querySelector('#df-1acbceff-5fc7-4ff2-8a94-546905f751df');\n",
       "        const dataTable =\n",
       "          await google.colab.kernel.invokeFunction('convertToInteractive',\n",
       "                                                    [key], {});\n",
       "        if (!dataTable) return;\n",
       "\n",
       "        const docLinkHtml = 'Like what you see? Visit the ' +\n",
       "          '<a target=\"_blank\" href=https://colab.research.google.com/notebooks/data_table.ipynb>data table notebook</a>'\n",
       "          + ' to learn more about interactive tables.';\n",
       "        element.innerHTML = '';\n",
       "        dataTable['output_type'] = 'display_data';\n",
       "        await google.colab.output.renderOutput(dataTable, element);\n",
       "        const docLink = document.createElement('div');\n",
       "        docLink.innerHTML = docLinkHtml;\n",
       "        element.appendChild(docLink);\n",
       "      }\n",
       "    </script>\n",
       "  </div>\n",
       "\n",
       "\n",
       "<div id=\"df-5609a47f-e09d-4041-8ca6-67a64a4c0fd7\">\n",
       "  <button class=\"colab-df-quickchart\" onclick=\"quickchart('df-5609a47f-e09d-4041-8ca6-67a64a4c0fd7')\"\n",
       "            title=\"Suggest charts\"\n",
       "            style=\"display:none;\">\n",
       "\n",
       "<svg xmlns=\"http://www.w3.org/2000/svg\" height=\"24px\"viewBox=\"0 0 24 24\"\n",
       "     width=\"24px\">\n",
       "    <g>\n",
       "        <path d=\"M19 3H5c-1.1 0-2 .9-2 2v14c0 1.1.9 2 2 2h14c1.1 0 2-.9 2-2V5c0-1.1-.9-2-2-2zM9 17H7v-7h2v7zm4 0h-2V7h2v10zm4 0h-2v-4h2v4z\"/>\n",
       "    </g>\n",
       "</svg>\n",
       "  </button>\n",
       "\n",
       "<style>\n",
       "  .colab-df-quickchart {\n",
       "      --bg-color: #E8F0FE;\n",
       "      --fill-color: #1967D2;\n",
       "      --hover-bg-color: #E2EBFA;\n",
       "      --hover-fill-color: #174EA6;\n",
       "      --disabled-fill-color: #AAA;\n",
       "      --disabled-bg-color: #DDD;\n",
       "  }\n",
       "\n",
       "  [theme=dark] .colab-df-quickchart {\n",
       "      --bg-color: #3B4455;\n",
       "      --fill-color: #D2E3FC;\n",
       "      --hover-bg-color: #434B5C;\n",
       "      --hover-fill-color: #FFFFFF;\n",
       "      --disabled-bg-color: #3B4455;\n",
       "      --disabled-fill-color: #666;\n",
       "  }\n",
       "\n",
       "  .colab-df-quickchart {\n",
       "    background-color: var(--bg-color);\n",
       "    border: none;\n",
       "    border-radius: 50%;\n",
       "    cursor: pointer;\n",
       "    display: none;\n",
       "    fill: var(--fill-color);\n",
       "    height: 32px;\n",
       "    padding: 0;\n",
       "    width: 32px;\n",
       "  }\n",
       "\n",
       "  .colab-df-quickchart:hover {\n",
       "    background-color: var(--hover-bg-color);\n",
       "    box-shadow: 0 1px 2px rgba(60, 64, 67, 0.3), 0 1px 3px 1px rgba(60, 64, 67, 0.15);\n",
       "    fill: var(--button-hover-fill-color);\n",
       "  }\n",
       "\n",
       "  .colab-df-quickchart-complete:disabled,\n",
       "  .colab-df-quickchart-complete:disabled:hover {\n",
       "    background-color: var(--disabled-bg-color);\n",
       "    fill: var(--disabled-fill-color);\n",
       "    box-shadow: none;\n",
       "  }\n",
       "\n",
       "  .colab-df-spinner {\n",
       "    border: 2px solid var(--fill-color);\n",
       "    border-color: transparent;\n",
       "    border-bottom-color: var(--fill-color);\n",
       "    animation:\n",
       "      spin 1s steps(1) infinite;\n",
       "  }\n",
       "\n",
       "  @keyframes spin {\n",
       "    0% {\n",
       "      border-color: transparent;\n",
       "      border-bottom-color: var(--fill-color);\n",
       "      border-left-color: var(--fill-color);\n",
       "    }\n",
       "    20% {\n",
       "      border-color: transparent;\n",
       "      border-left-color: var(--fill-color);\n",
       "      border-top-color: var(--fill-color);\n",
       "    }\n",
       "    30% {\n",
       "      border-color: transparent;\n",
       "      border-left-color: var(--fill-color);\n",
       "      border-top-color: var(--fill-color);\n",
       "      border-right-color: var(--fill-color);\n",
       "    }\n",
       "    40% {\n",
       "      border-color: transparent;\n",
       "      border-right-color: var(--fill-color);\n",
       "      border-top-color: var(--fill-color);\n",
       "    }\n",
       "    60% {\n",
       "      border-color: transparent;\n",
       "      border-right-color: var(--fill-color);\n",
       "    }\n",
       "    80% {\n",
       "      border-color: transparent;\n",
       "      border-right-color: var(--fill-color);\n",
       "      border-bottom-color: var(--fill-color);\n",
       "    }\n",
       "    90% {\n",
       "      border-color: transparent;\n",
       "      border-bottom-color: var(--fill-color);\n",
       "    }\n",
       "  }\n",
       "</style>\n",
       "\n",
       "  <script>\n",
       "    async function quickchart(key) {\n",
       "      const quickchartButtonEl =\n",
       "        document.querySelector('#' + key + ' button');\n",
       "      quickchartButtonEl.disabled = true;  // To prevent multiple clicks.\n",
       "      quickchartButtonEl.classList.add('colab-df-spinner');\n",
       "      try {\n",
       "        const charts = await google.colab.kernel.invokeFunction(\n",
       "            'suggestCharts', [key], {});\n",
       "      } catch (error) {\n",
       "        console.error('Error during call to suggestCharts:', error);\n",
       "      }\n",
       "      quickchartButtonEl.classList.remove('colab-df-spinner');\n",
       "      quickchartButtonEl.classList.add('colab-df-quickchart-complete');\n",
       "    }\n",
       "    (() => {\n",
       "      let quickchartButtonEl =\n",
       "        document.querySelector('#df-5609a47f-e09d-4041-8ca6-67a64a4c0fd7 button');\n",
       "      quickchartButtonEl.style.display =\n",
       "        google.colab.kernel.accessAllowed ? 'block' : 'none';\n",
       "    })();\n",
       "  </script>\n",
       "</div>\n",
       "\n",
       "    </div>\n",
       "  </div>\n"
      ],
      "text/plain": [
       "   fixed_acidity  volatile_acidity  citric_acid  residual_sugar  chlorides  \\\n",
       "0       0.297521          0.413333     0.000000        0.019939   0.111296   \n",
       "1       0.330579          0.533333     0.000000        0.030675   0.147841   \n",
       "2       0.330579          0.453333     0.024096        0.026074   0.137874   \n",
       "3       0.611570          0.133333     0.337349        0.019939   0.109635   \n",
       "4       0.297521          0.413333     0.000000        0.019939   0.111296   \n",
       "\n",
       "   free_sulfur_dioxide  total_sulfur_dioxide   density        pH  sulphates  \\\n",
       "0             0.034722              0.064516  0.206092  0.612403   0.191011   \n",
       "1             0.083333              0.140553  0.186813  0.372093   0.258427   \n",
       "2             0.048611              0.110599  0.190669  0.418605   0.241573   \n",
       "3             0.055556              0.124424  0.209948  0.341085   0.202247   \n",
       "4             0.034722              0.064516  0.206092  0.612403   0.191011   \n",
       "\n",
       "    alcohol  quality quality_label  \n",
       "0  0.202899        5        medium  \n",
       "1  0.260870        5        medium  \n",
       "2  0.260870        5        medium  \n",
       "3  0.260870        6        medium  \n",
       "4  0.202899        5        medium  "
      ]
     },
     "execution_count": 13,
     "metadata": {},
     "output_type": "execute_result"
    }
   ],
   "source": [
    "df.head()"
   ]
  },
  {
   "cell_type": "markdown",
   "id": "2186fb18",
   "metadata": {
    "id": "2186fb18"
   },
   "source": [
    "### ✍️ 6. Reflexión final\n",
    "\n",
    "Completar\n"
   ]
  }
 ],
 "metadata": {
  "colab": {
   "provenance": [],
   "toc_visible": true
  },
  "kernelspec": {
   "display_name": "Python 3",
   "name": "python3"
  },
  "language_info": {
   "codemirror_mode": {
    "name": "ipython",
    "version": 3
   },
   "file_extension": ".py",
   "mimetype": "text/x-python",
   "name": "python",
   "nbconvert_exporter": "python",
   "pygments_lexer": "ipython3",
   "version": "3.9.13"
  }
 },
 "nbformat": 4,
 "nbformat_minor": 5
}
