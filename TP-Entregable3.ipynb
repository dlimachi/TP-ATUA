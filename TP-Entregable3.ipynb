{
  "cells": [
    {
      "cell_type": "markdown",
      "metadata": {
        "id": "06712ded"
      },
      "source": [
        "# Ciencia de datos aplicada (ITBA): Modelo de tercer entregable\n",
        "\n",
        "**Entrenamiento y validación de Modelos de Machine Learning**\n",
        "\n",
        "**Equipo:** Desiree Melisa Limachi, Felipe Mendiondo, German Lorenzani\n",
        "\n",
        "**Nombre del proyecto**: Sistema de pricing dinámico para ATUA\n",
        "\n"
      ]
    },
    {
      "cell_type": "markdown",
      "metadata": {
        "id": "Shl-eVuKQlTp"
      },
      "source": [
        "### 🧾 1. Importación y carga de librerías\n"
      ]
    },
    {
      "cell_type": "code",
      "execution_count": null,
      "metadata": {
        "id": "eND1-l_gQl-b",
        "outputId": "4f14fe83-6ed5-4183-8d3e-873a770d0c27"
      },
      "outputs": [
        {
          "name": "stdout",
          "output_type": "stream",
          "text": [
            "c:\\Users\\desir\\AppData\\Local\\Programs\\Python\\Python39\\python.exe\n",
            "Requirement already satisfied: pip in c:\\users\\desir\\appdata\\local\\programs\\python\\python311\\lib\\site-packages (25.1.1)\n",
            "Collecting lightgbm\n",
            "  Obtaining dependency information for lightgbm from https://files.pythonhosted.org/packages/5e/23/f8b28ca248bb629b9e08f877dd2965d1994e1674a03d67cd10c5246da248/lightgbm-4.6.0-py3-none-win_amd64.whl.metadata\n",
            "  Downloading lightgbm-4.6.0-py3-none-win_amd64.whl.metadata (17 kB)\n",
            "Requirement already satisfied: numpy>=1.17.0 in c:\\users\\desir\\appdata\\local\\programs\\python\\python39\\lib\\site-packages (from lightgbm) (1.25.2)\n",
            "Requirement already satisfied: scipy in c:\\users\\desir\\appdata\\local\\programs\\python\\python39\\lib\\site-packages (from lightgbm) (1.13.0)\n",
            "Downloading lightgbm-4.6.0-py3-none-win_amd64.whl (1.5 MB)\n",
            "   ---------------------------------------- 0.0/1.5 MB ? eta -:--:--\n",
            "   ------------------------- -------------- 0.9/1.5 MB 28.5 MB/s eta 0:00:01\n",
            "   ---------------------------------------- 1.5/1.5 MB 22.9 MB/s eta 0:00:00\n",
            "Installing collected packages: lightgbm\n",
            "Successfully installed lightgbm-4.6.0\n"
          ]
        },
        {
          "name": "stderr",
          "output_type": "stream",
          "text": [
            "\n",
            "[notice] A new release of pip is available: 23.2.1 -> 25.1.1\n",
            "[notice] To update, run: python.exe -m pip install --upgrade pip\n"
          ]
        }
      ],
      "source": [
        "import pandas as pd\n",
        "import sys\n",
        "print(sys.executable)\n",
        "!pip install --upgrade pip\n",
        "!{sys.executable} -m pip install lightgbm\n",
        "\n",
        "# Reemplazá con la ruta local si se descargo el archivo manualmente, ubicar ambos archivos en una carpeta dataset\n",
        "#df = pd.read_csv('https://github.com/dlimachi/TP-ATUA/blob/main/dataset/Reservas_transformado.csv')\n"
      ]
    },
    {
      "cell_type": "code",
      "execution_count": null,
      "metadata": {
        "id": "eNTkd03eQLD_"
      },
      "outputs": [],
      "source": [
        "import pandas as pd\n",
        "import seaborn as sns\n",
        "import matplotlib.pyplot as plt\n",
        "import numpy as np\n",
        "from matplotlib import ticker\n",
        "from sklearn.metrics import classification_report, confusion_matrix\n",
        "import joblib\n",
        "from sklearn.model_selection import train_test_split, GridSearchCV\n",
        "from sklearn.svm import SVC\n",
        "from sklearn.model_selection import train_test_split, GridSearchCV\n",
        "from sklearn.preprocessing import LabelEncoder\n",
        "from sklearn.model_selection import train_test_split, GridSearchCV\n",
        "from sklearn.preprocessing import LabelEncoder\n",
        "from sklearn.metrics import classification_report, accuracy_score\n",
        "from lightgbm import LGBMClassifier\n"
      ]
    },
    {
      "cell_type": "markdown",
      "metadata": {
        "id": "d3eec2d3"
      },
      "source": [
        "## 🔧 Transformaciones\n",
        "\n",
        "\n",
        "En esta etapa consolidamos el proceso completo de transformación del dataset limpio, generando todas las variables que servirán como entrada para el modelo predictivo y guardando el resultado final como Reservas_transformado.csv. Este archivo va a ser la base estructurada y enriquecida que concentra la lógica del negocio y los patrones de comportamiento detectados en las reservas reales.\n",
        "\n",
        "Uno de los primeros pasos consiste en construir la variable Rango de precio, que clasifica cada reserva en “Bajo”, “Medio” o “Alto” en función del precio por día publicado. Definimos umbrales específicos que consideramos representativos del mercado actual. Esta categorización nos permite abordar el problema con un enfoque de clasificación supervisada, simplificando el análisis.\n",
        "\n",
        "También calculamos la Antigüedad de la reserva, es decir, cuántos días antes del check-in fue realizada. A partir de ese valor generamos una clasificación en tres niveles: “Último momento”, “Moderada” y “Anticipada”. El objetivo de esta variable es capturar distintos tipos de comportamiento del usuario en función del nivel de planificación, lo cual puede relacionarse directamente con la estrategia de precios o disponibilidad.\n",
        "\n",
        "Incorporamos además la variable Temporada, que clasifica cada reserva como “Alta” o “Baja” en función del mes del check-in. Consideramos como alta los meses de mayor demanda turística: diciembre, enero, febrero y julio. Esta dimensión temporal nos permite tener en cuenta el impacto de la estacionalidad en la demanda y en los precios.\n",
        "\n",
        "A esto se suman dos variables horarias: Franja Check-in y Franja Creación, que dividen el día en bloques horarios —“Madrugada”, “Mañana”, “Tarde” y “Noche”— en función de la hora en que se creó la reserva o en la que inicia el alquiler. Estas franjas permiten estudiar la distribución temporal de las reservas y detectar posibles patrones de comportamiento horario que puedan ser relevantes para el negocio.\n",
        "\n",
        "Finalmente, calculamos la Duración del alquiler como la diferencia en días entre el check-out y el check-in. Esta variable es clave tanto para evaluar la rentabilidad de una reserva como para alimentar futuros modelos que determinen el tiempo mínimo económicamente viable para ofrecer un vehículo. Se eliminan las reservas que no tienen fechas válidas y se filtran los datos para conservar únicamente aquellas cuyo estado es COMPLETADA, lo que garantiza que solo trabajamos con operaciones reales.\n"
      ]
    },
    {
      "cell_type": "code",
      "execution_count": null,
      "metadata": {
        "id": "a4c4ccab",
        "outputId": "c3e88e80-aa73-4258-df4f-1c6d25c111eb"
      },
      "outputs": [
        {
          "name": "stderr",
          "output_type": "stream",
          "text": [
            "C:\\Users\\desir\\AppData\\Local\\Temp\\ipykernel_24740\\3119651848.py:23: UserWarning: Could not infer format, so each element will be parsed individually, falling back to `dateutil`. To ensure parsing is consistent and as-expected, please specify a format.\n",
            "  checkin_parsed = pd.to_datetime(df_filtered['Check-in'], errors='coerce', dayfirst=True)\n"
          ]
        }
      ],
      "source": [
        "import pandas as pd\n",
        "\n",
        "df_filtered = pd.read_csv('dataset/Reservas_limpio.csv', sep=';')\n",
        "\n",
        "# Crear la categoría de rango de precios por día\n",
        "def clasificar_precio_dia(precio):\n",
        "    if pd.isna(precio):\n",
        "        return 'Desconocido'\n",
        "    elif precio < 53000:\n",
        "        return 'Bajo'\n",
        "    elif precio <= 63000:\n",
        "        return 'Medio'\n",
        "    else:\n",
        "        return 'Alto'\n",
        "\n",
        "df_filtered['Rango de precio'] = df_filtered['Precio de la publicacion'].apply(clasificar_precio_dia)\n",
        "df_filtered['Rango de precio'] = pd.Categorical(\n",
        "    df_filtered['Rango de precio'],\n",
        "    categories=['Bajo', 'Medio', 'Alto', 'Desconocido'],\n",
        "    ordered=True\n",
        ")\n",
        "\n",
        "checkin_parsed = pd.to_datetime(df_filtered['Check-in'], errors='coerce', dayfirst=True)\n",
        "creacion_parsed = pd.to_datetime(df_filtered['Fecha de creacion'], errors='coerce')\n",
        "\n",
        "df_filtered['Antiguedad dias'] = (checkin_parsed - creacion_parsed).dt.days\n",
        "\n",
        "# Clasificar en categorías\n",
        "def clasificar_antiguedad(dias):\n",
        "    if pd.isna(dias):\n",
        "        return 'Desconocido'\n",
        "    if dias <= 7:\n",
        "        return 'Último momento'\n",
        "    elif dias <= 14:\n",
        "        return 'Moderada'\n",
        "    else:\n",
        "        return 'Anticipada'\n",
        "\n",
        "df_filtered['Antigüedad de Reserva'] = df_filtered['Antiguedad dias'].apply(clasificar_antiguedad)\n",
        "\n",
        "\n",
        "# ----------- Temporada (Alta o Baja) -----------\n",
        "\n",
        "df_filtered['Check-in'] = pd.to_datetime(df_filtered['Check-in'], format='%d/%m/%y %H:%M', errors='coerce')\n",
        "df_filtered['Check-out'] = pd.to_datetime(df_filtered['Check-out'], format='%d/%m/%y %H:%M', errors='coerce')\n",
        "df_filtered['Fecha de creacion'] = pd.to_datetime(df_filtered['Fecha de creacion'], format='%Y-%m-%d %H:%M:%S.%f', errors='coerce')\n",
        "\n",
        "def definir_temporada(fecha):\n",
        "    if pd.isna(fecha):\n",
        "        return 'Desconocida'\n",
        "    mes = fecha.month\n",
        "    if mes in [12, 1, 2, 7]:\n",
        "        return 'Alta'\n",
        "    return 'Baja'\n",
        "\n",
        "df_filtered['Temporada'] = df_filtered['Check-in'].apply(definir_temporada)\n",
        "\n",
        "# ----------- Franja horaria de demanda por Check-in -----------\n",
        "def franja_horaria(fecha):\n",
        "    if pd.isna(fecha):\n",
        "        return 'Desconocida'\n",
        "    hora = fecha.hour\n",
        "    if 6 <= hora < 12:\n",
        "        return 'Mañana'\n",
        "    elif 12 <= hora < 18:\n",
        "        return 'Tarde'\n",
        "    elif 18 <= hora < 24:\n",
        "        return 'Noche'\n",
        "    else:\n",
        "        return 'Madrugada'\n",
        "\n",
        "df_filtered['Franja Check-in'] = df_filtered['Check-in'].apply(franja_horaria)\n",
        "\n",
        "# ----------- Franja horaria de creación de reserva -----------\n",
        "df_filtered['Franja Creación'] = df_filtered['Fecha de creacion'].apply(franja_horaria)\n",
        "\n",
        "\n",
        "# Calcular duración en días\n",
        "df_filtered['Duracion'] = (df_filtered['Check-out'] - df_filtered['Check-in']).dt.days\n",
        "df_filtered = df_filtered.dropna(subset=['Check-in', 'Check-out'])\n",
        "\n",
        "df_filtered = df_filtered[df_filtered['Estado'] == 'COMPLETADA']\n",
        "\n",
        "df_filtered.to_csv('dataset/Reservas_transformado.csv', sep=';', index=False)\n"
      ]
    },
    {
      "cell_type": "markdown",
      "metadata": {
        "id": "w4J7GSAK21XO"
      },
      "source": [
        "## 🧾 Carga de datos y preparación\n",
        "\n",
        "En esta etapa preparamos el conjunto de datos transformado para su uso en el modelo predictivo. Partimos del archivo Reservas_transformado.csv y seleccionamos aquellas que consideramos más relevantes para predecir el rango de precio de una reserva.\n",
        "\n",
        "Definimos como variables predictoras (features) a Temporada, Provincia, Modelo, Marca y Duración. Estas variables tienen información sobre el contexto temporal, la ubicación, las características del vehículo y la extensión del alquiler, todos factores que creemos influyen en la determinación del precio. Aplicamos pd.get_dummies() sobre estas variables para convertirlas en variables numéricas mediante codificación one-hot, ya que los algoritmos como SVM no pueden trabajar con datos categóricos en formato texto.\n",
        "\n",
        "Paso siguiente, definimos la variable objetivo (y) como el Rango de precio, que fue previamente categorizado en “Bajo”, “Medio” y “Alto”. Esta variable es el foco del modelo de clasificación, y será utilizada para entrenar un algoritmo que, a partir de las características de una reserva, pueda predecir de forma automática a qué rango de precios pertenece. Esta preparación del conjunto de datos es fundamental para asegurar que el modelo reciba entradas en un formato adecuado y alineado con la lógica del problema que buscamos resolver."
      ]
    },
    {
      "cell_type": "code",
      "execution_count": null,
      "metadata": {
        "id": "3DnnBU6p238-"
      },
      "outputs": [],
      "source": [
        "df = pd.read_csv('dataset/Reservas_transformado.csv', sep=';')\n",
        "\n",
        "# Variables predictoras\n",
        "features = ['Temporada', 'Provincia', 'Modelo', 'Marca', 'Duracion']\n",
        "X = pd.get_dummies(df[features])\n",
        "\n",
        "# Variable target\n",
        "y = df['Rango de precio']"
      ]
    },
    {
      "cell_type": "markdown",
      "metadata": {
        "id": "97YfO_-7Pj0n"
      },
      "source": [
        "Los separamos en entrenamiento y test:\n",
        "\n",
        "En este paso dividimos el conjunto de datos en dos subconjuntos: uno para entrenar el modelo y otro para evaluarlo. Asignanamos el 80% de los datos a entrenamiento (X_train, y_train) y el 20% restante a prueba (X_test, y_test). Esta división es esencial para validar la capacidad del modelo de generalizar a nuevos casos que no ha visto durante el entrenamiento.\n",
        "\n",
        "Establecemos random_state=42 para garantizar que la partición sea reproducible, lo que permite obtener siempre los mismos resultados al volver a ejecutar el código. Esta práctica es útil para mantener consistencia durante la experimentación y para facilitar la comparación de distintos modelos o configuraciones."
      ]
    },
    {
      "cell_type": "code",
      "execution_count": null,
      "metadata": {
        "id": "uJfH4SV9PlQf"
      },
      "outputs": [],
      "source": [
        "# Separar en conjunto de entrenamiento y prueba\n",
        "X_train, X_test, y_train, y_test = train_test_split(X, y, test_size=0.2, random_state=42)"
      ]
    },
    {
      "cell_type": "markdown",
      "metadata": {
        "id": "910701a6"
      },
      "source": [
        "## 🏋️ Entrenamiento del Modelo\n",
        "\n",
        "En esta sección se entrena un modelo de clasificación utilizando la técnica de Máquinas de Vectores de Soporte (SVM). El modelo se ajusta directamente a los datos de entrenamiento y se evalúa su desempeño sobre un conjunto de prueba independiente. Esta técnica busca encontrar el hiperplano que mejor separa las clases, maximizando el margen entre los datos de distintas categorías.\n",
        "\n",
        "También se va a utilizar LightGBM, un modelo supervisado basado en árboles de decisión que requiere entrenamiento previo sobre datos etiquetados. Es especialmente útil en nuestro caso, ya que permite capturar relaciones complejas entre variables categóricas y numéricas, como la anticipación, la temporada o el tipo de vehículo, proporcionando predicciones precisas y eficientes para la estimación del precio de una reserva."
      ]
    },
    {
      "cell_type": "markdown",
      "metadata": {
        "id": "738e6cb5"
      },
      "source": [
        "### 🏋️ Entrenamiento con SVM\n",
        "\n",
        "Buscamos el mejor SVM cambiando el parámetro `C` y el tipo de kernel:\n",
        "\n",
        "Elegimos usar SVM porque creemos que es un algoritmo adecuado para nuestro caso, donde buscamos clasificar reservas en rangos de precios según múltiples variables categóricas y numéricas.\n",
        "\n",
        "Consideramos que este enfoque tiene sentido porque estamos creando variables que captan patrones temporales como la temporada o la franja horaria, características del producto marca, modelo, y comportamiento del usuario duración, anticipación, y esperamos que la relación entre estas variables y el rango de precio no sea trivial ni lineal. El uso de SVM permite manejar esta complejidad sin necesidad de tener una distribución específica de las variables ni de muchos datos, ya que SVM funciona bien incluso con datasets de tamaño moderado, como el que manejamos.\n",
        "\n",
        "Además, nos interesa que el modelo sea capaz de generalizar correctamente y no sobreajustarse al conjunto de entrenamiento, y sabemos que SVM es robusto frente al overfitting, especialmente cuando se ajustan correctamente los parámetros de margen y del kernel. Finalmente, dado que el output principal es una categoría rango de precio, y que nuestras features ya han sido cuidadosamente transformadas, creemos que SVM puede ofrecernos una frontera de decisión clara, precisa y eficaz para alimentar las decisiones automáticas del sistema.\n",
        "\n",
        "Luego de entrenar todos los modelos posibles en la grilla, seleccionamos el que obtuvo mejor desempeño y lo evaluamos sobre el conjunto de prueba. Reportamos el accuracy final y los mejores hiperparámetros encontrados, lo que nos permite comparar objetivamente su rendimiento con el de otros modelos, como LightGBM, y tomar decisiones sobre cuál conviene utilizar en la solución definitiva. Consideramos que incluir SVM en este análisis nos aporta un modelo de alta precisión y bajo riesgo de sobreajuste, especialmente útil cuando se trabaja con conjuntos de datos estructurados y variables bien definidas.\n",
        "\n",
        "\n",
        "\n",
        "\n",
        "\n",
        "\n",
        "\n",
        "\n"
      ]
    },
    {
      "cell_type": "code",
      "execution_count": null,
      "metadata": {
        "colab": {
          "base_uri": "https://localhost:8080/",
          "height": 211
        },
        "id": "0c56e07a",
        "outputId": "2eab337a-f09a-4fdf-e09b-9d81b26b9d7c"
      },
      "outputs": [
        {
          "name": "stdout",
          "output_type": "stream",
          "text": [
            "Mejores hiperparámetros para SVM: {'C': 1, 'kernel': 'linear'}\n",
            "Accuracy en test: 0.7142857142857143\n"
          ]
        }
      ],
      "source": [
        "# Definir la grilla de hiperparámetros\n",
        "param_grid_svm = {\n",
        "    'C': [0.1, 1, 10],\n",
        "    'kernel': ['linear', 'rbf']\n",
        "}\n",
        "\n",
        "svm = SVC(probability=True, random_state=42)\n",
        "grid_svm = GridSearchCV(svm, param_grid_svm, cv=5)\n",
        "grid_svm.fit(X_train, y_train)\n",
        "\n",
        "acuracy = grid_svm.score(X_test, y_test)\n",
        "print('Mejores hiperparámetros para SVM:', grid_svm.best_params_)\n",
        "print('Accuracy en test:', acuracy)"
      ]
    },
    {
      "cell_type": "markdown",
      "metadata": {
        "id": "pwLpehM5CwS1"
      },
      "source": [
        "### 🏋️ Entrenamiento con LightGBM\n",
        "En esta parte del trabajo implementamos un modelo de clasificación utilizando LightGBM. Decidimos incorporar este modelo como alternativa a SVM porque creemos que ofrece ventajas importantes al momento de trabajar con variables categóricas transformadas y estructuras de datos donde pueden existir relaciones no lineales complejas entre las variables predictoras y la clase objetivo.\n",
        "\n",
        "Primero serializamos la lista de columnas (X.columns) utilizando joblib.dump, lo que nos permite conservar la estructura exacta de entrada del modelo para reutilizarla más adelante, especialmente si se desea desplegar el modelo en producción o aplicarlo sobre nuevos datos.\n",
        "\n",
        "Luego dividimos los datos en entrenamiento y prueba con train_test_split y, dado que el modelo requiere que las etiquetas sean numéricas, transformamos el Rango de precio (nuestra variable objetivo) usando LabelEncoder. Este paso convierte las categorías (“Bajo”, “Medio”, “Alto”) en valores enteros que LightGBM puede procesar internamente.\n",
        "\n",
        "Entrenamos el modelo con lgbm.fit(...) sobre los datos codificados y realizamos predicciones sobre el conjunto de prueba. Posteriormente, reconvertimos las predicciones a sus etiquetas originales con inverse_transform para que los resultados sean legibles e interpretables. Calculamos la accuracy final del modelo y generamos un reporte de clasificación detallado, con métricas como precisión, recall y F1-score para cada clase."
      ]
    },
    {
      "cell_type": "code",
      "execution_count": null,
      "metadata": {
        "id": "07AYbGnGP_be",
        "outputId": "0c879cc7-e8c8-4ae2-ba71-9e428602b39e"
      },
      "outputs": [
        {
          "name": "stdout",
          "output_type": "stream",
          "text": [
            "Accuracy del modelo LightGBM: 0.643\n",
            "              precision    recall  f1-score   support\n",
            "\n",
            "        Alto       0.62      0.83      0.71        12\n",
            "        Bajo       0.50      0.57      0.53         7\n",
            "       Medio       1.00      0.44      0.62         9\n",
            "\n",
            "    accuracy                           0.64        28\n",
            "   macro avg       0.71      0.62      0.62        28\n",
            "weighted avg       0.71      0.64      0.64        28\n",
            "\n"
          ]
        }
      ],
      "source": [
        "from lightgbm import LGBMClassifier\n",
        "\n",
        "joblib.dump(X.columns.tolist(), 'columnas_lightgbm.joblib')\n",
        "\n",
        "X_train, X_test, y_train, y_test = train_test_split(X, y, test_size=0.2, random_state=42)\n",
        "\n",
        "# Crear modelo LightGBM\n",
        "lgbm = LGBMClassifier(random_state=42, verbose=-1)\n",
        "\n",
        "# Como el target es categórico, lo convertimos a números para LightGBM\n",
        "le = LabelEncoder()\n",
        "y_train_enc = le.fit_transform(y_train)\n",
        "y_test_enc = le.transform(y_test)\n",
        "\n",
        "lgbm.fit(X_train, y_train_enc)\n",
        "\n",
        "# Evaluar en test\n",
        "y_pred_enc = lgbm.predict(X_test).round().astype(int)\n",
        "y_pred_enc = [min(max(p, 0), len(le.classes_) - 1) for p in y_pred_enc]\n",
        "y_pred = le.inverse_transform(y_pred_enc)\n",
        "\n",
        "# Calcular accuracy\n",
        "y_test_labels = y_test.values\n",
        "accuracy = accuracy_score(y_test_labels, y_pred)\n",
        "print(f\"Accuracy del modelo LightGBM: {accuracy:.3f}\")\n",
        "\n",
        "# Reporte detallado\n",
        "print(classification_report(y_test, y_pred))"
      ]
    },
    {
      "cell_type": "markdown",
      "metadata": {
        "id": "c4e8daa0"
      },
      "source": [
        "## 🔍 Comparación de resultados\n",
        "Comparamos los resultados y elegimos el modelo con mayor accuracy en test. En este caso SVM."
      ]
    },
    {
      "cell_type": "code",
      "execution_count": null,
      "metadata": {
        "colab": {
          "base_uri": "https://localhost:8080/"
        },
        "id": "f8d038b2",
        "outputId": "b5e73265-2d0f-4c6a-c946-6cdadb0e6796"
      },
      "outputs": [
        {
          "name": "stdout",
          "output_type": "stream",
          "text": [
            "Modelo seleccionado: SVM (accuracy = 0.714)\n"
          ]
        }
      ],
      "source": [
        "accuracy_lgbm  = accuracy_score(y_test_labels, y_pred)\n",
        "accuracy_svm = grid_svm.score(X_test, y_test)\n",
        "\n",
        "if accuracy_lgbm >= accuracy_svm:\n",
        "    mejor_modelo = 'LightGBM'\n",
        "    mejor_accuracy = accuracy_lgbm\n",
        "else:\n",
        "    mejor_modelo = 'SVM'\n",
        "    mejor_accuracy = accuracy_svm\n",
        "\n",
        "print(f'Modelo seleccionado: {mejor_modelo} (accuracy = {mejor_accuracy:.3f})')"
      ]
    },
    {
      "cell_type": "markdown",
      "metadata": {
        "id": "b863fb8a"
      },
      "source": [
        "### 📐 Métricas y visualización para el modelo seleccionado"
      ]
    },
    {
      "cell_type": "code",
      "execution_count": null,
      "metadata": {
        "colab": {
          "base_uri": "https://localhost:8080/",
          "height": 663
        },
        "id": "cae6555b",
        "outputId": "f11a9eb6-ecf5-41d7-e01d-ec95126235ea"
      },
      "outputs": [
        {
          "name": "stdout",
          "output_type": "stream",
          "text": [
            "\n",
            "Reporte de Clasificación:\n",
            "              precision    recall  f1-score   support\n",
            "\n",
            "        Alto       0.78      0.58      0.67        12\n",
            "        Bajo       0.86      0.86      0.86         7\n",
            "       Medio       0.58      0.78      0.67         9\n",
            "\n",
            "    accuracy                           0.71        28\n",
            "   macro avg       0.74      0.74      0.73        28\n",
            "weighted avg       0.74      0.71      0.71        28\n",
            "\n"
          ]
        },
        {
          "data": {
            "image/png": "[encoded data removed]",
            "text/plain": [
              "<Figure size 640x480 with 2 Axes>"
            ]
          },
          "metadata": {},
          "output_type": "display_data"
        }
      ],
      "source": [
        "from sklearn.metrics import classification_report, confusion_matrix\n",
        "import matplotlib.pyplot as plt\n",
        "import seaborn as sns\n",
        "\n",
        "y_pred = grid_svm.predict(X_test)\n",
        "\n",
        "print(\"\\nReporte de Clasificación:\")\n",
        "print(classification_report(y_test, y_pred, zero_division=0))\n",
        "\n",
        "etiquetas_ordenadas = ['Bajo', 'Medio', 'Alto']\n",
        "cm = confusion_matrix(y_test, y_pred, labels=etiquetas_ordenadas)\n",
        "sns.heatmap(cm, annot=True, fmt='d', cmap='Blues',\n",
        "            xticklabels=etiquetas_ordenadas,\n",
        "            yticklabels=etiquetas_ordenadas)\n",
        "plt.xlabel('Predicho')\n",
        "plt.ylabel('Real')\n",
        "plt.title(f'Matriz de Confusión')\n",
        "plt.tight_layout()\n",
        "plt.show()"
      ]
    },
    {
      "cell_type": "markdown",
      "metadata": {
        "id": "9XQNMlg14E1b"
      },
      "source": [
        "### 👩‍⚕️Análisis de los resultados\n",
        "\n",
        "El modelo entrenado fue evaluado en un conjunto de prueba utilizando métricas de clasificación y una matriz de confusión. El accuracy general alcanzado fue del 71%, lo cual refleja un buen desempeño general considerando que se trata de una clasificación en tres rangos de precio: “Bajo”, “Medio” y “Alto”.\n",
        "\n",
        "La clase “Bajo” fue la más fácil de identificar para el modelo: 6 de 7 casos fueron clasificados correctamente. Esto indica que los patrones asociados a precios bajos —como anticipación alta o duración corta— están bien representados en los datos.\n",
        "\n",
        "Para la clase “Medio”, el modelo también mostró buen rendimiento (7 aciertos sobre 9), aunque se observaron 2 casos clasificados como “Alto”, lo que sugiere que algunas reservas con características intermedias pueden solaparse con las de precio más alto.\n",
        "\n",
        "La mayor confusión se dio en la clase “Alto”, donde aunque el modelo acertó en 7 casos, también cometió errores al predecir “Medio” (4 veces) y “Bajo” (1 vez). Esto puede deberse a que no todas las variables que determinan un precio alto están bien capturadas en el dataset actual.\n",
        "\n",
        "En general, el modelo demuestra ser útil para predecir precios bajos y medios, y ofrece una base sólida para seguir mejorando la discriminación en los casos más altos incorporando nuevas variables o ajustando el balance de clases."
      ]
    },
    {
      "cell_type": "markdown",
      "metadata": {
        "id": "d1c01bc9"
      },
      "source": [
        "## 💾 Persistencia del modelo seleccionado\n",
        "\n",
        "Guardamos el mejor modelo para usarlo luego en una nueva notebook."
      ]
    },
    {
      "cell_type": "code",
      "execution_count": null,
      "metadata": {
        "colab": {
          "base_uri": "https://localhost:8080/"
        },
        "id": "3c811c07",
        "outputId": "94c99f35-6cdb-4625-9369-5c70c7687340"
      },
      "outputs": [
        {
          "data": {
            "text/plain": [
              "['columnas_entrenamiento.joblib']"
            ]
          },
          "execution_count": 17,
          "metadata": {},
          "output_type": "execute_result"
        }
      ],
      "source": [
        "mejor_modelo = grid_svm.best_estimator_\n",
        "joblib.dump(mejor_modelo, 'modelo_svm_precio.joblib')\n",
        "joblib.dump(X.columns.tolist(), 'columnas_entrenamiento.joblib')"
      ]
    },
    {
      "cell_type": "markdown",
      "metadata": {
        "id": "1fe896fe"
      },
      "source": [
        "## 🛫 Cierre de la entrega: Reflexiones finales\n",
        "\n",
        "El objetivo de este proyecto fue construir un modelo capaz de predecir el rango de precio de una reserva en ATUA, utilizando datos históricos y características de la reserva. Esta herramienta apunta a mejorar la toma de decisiones comerciales, optimizar la gestión de precios y ofrecer respuestas más ajustadas a la demanda del sistema.\n",
        "\n",
        "Durante el proceso de modelado se probaron dos enfoques: SVM y LightGBM, ambos entrenados y validados con técnicas de validación cruzada. Finalmente, se eligió SVM como modelo definitivo, ya que alcanzó una mayor accuracy en el conjunto de prueba. En particular, se destacó su capacidad para identificar correctamente reservas de precio “Bajo”, mientras que las clases “Medio” y “Alto” presentaron algo de superposición, lo que era esperable dado que comparten características similares.\n",
        "\n",
        "Como líneas de mejora, se identificó la posibilidad de incorporar nuevas variables que aporten más contexto, como el día especifico de la semana, eventos especiales (como ofertas) o detalles del perfil del cliente. También se considera relevante abordar el desbalance de clases, ya que esto puede estar afectando la precisión en los rangos menos representados. Aunque el modelo actual ya aporta muchisimo valor para la empresa, hay espacio para seguir optimizándolo y lograr una mejor diferenciación entre segmentos intermedios y altos.\n",
        "\n",
        "En conclusión, la implementación de este modelo representa un avance concreto para ATUA en la aplicación de herramientas de ciencia de datos al negocio, con resultados prometedores y una base sólida para futuras iteraciones. Funciona como un primer paso para comprender qué variables influyen en las variaciones de precio y permite, a futuro, avanzar hacia la automatización y el desarrollo de un sistema de pricing dinámico más preciso y eficiente."
      ]
    }
  ],
  "metadata": {
    "colab": {
      "provenance": [],
      "toc_visible": true
    },
    "kernelspec": {
      "display_name": "Python 3",
      "name": "python3"
    },
    "language_info": {
      "codemirror_mode": {
        "name": "ipython",
        "version": 3
      },
      "file_extension": ".py",
      "mimetype": "text/x-python",
      "name": "python",
      "nbconvert_exporter": "python",
      "pygments_lexer": "ipython3",
      "version": "3.9.13"
    }
  },
  "nbformat": 4,
  "nbformat_minor": 0
}